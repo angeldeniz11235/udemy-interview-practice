{
 "cells": [
  {
   "cell_type": "code",
   "execution_count": null,
   "metadata": {},
   "outputs": [],
   "source": []
  },
  {
   "cell_type": "code",
   "execution_count": 13,
   "metadata": {},
   "outputs": [
    {
     "name": "stdout",
     "output_type": "stream",
     "text": [
      "[1, 5, 6, 9, 25, 18, 5, 601, 7, 6, 3, 8, 66, 84, 8, 10]\n",
      "[1, 3, 6, 9, 25, 18, 5, 601, 7, 6, 5, 8, 66, 84, 8, 10]\n",
      "[1, 3, 5, 9, 25, 18, 6, 601, 7, 6, 5, 8, 66, 84, 8, 10]\n",
      "[1, 3, 5, 9, 25, 18, 6, 601, 7, 6, 5, 8, 66, 84, 8, 10]\n",
      "[1, 3, 5, 6, 25, 18, 9, 601, 7, 6, 5, 8, 66, 84, 8, 10]\n",
      "[1, 3, 5, 6, 25, 18, 9, 601, 7, 6, 5, 8, 66, 84, 8, 10]\n",
      "[1, 3, 5, 5, 25, 18, 9, 601, 7, 6, 6, 8, 66, 84, 8, 10]\n",
      "[1, 3, 5, 5, 18, 25, 9, 601, 7, 6, 6, 8, 66, 84, 8, 10]\n",
      "[1, 3, 5, 5, 9, 25, 18, 601, 7, 6, 6, 8, 66, 84, 8, 10]\n",
      "[1, 3, 5, 5, 7, 25, 18, 601, 9, 6, 6, 8, 66, 84, 8, 10]\n",
      "[1, 3, 5, 5, 6, 25, 18, 601, 9, 7, 6, 8, 66, 84, 8, 10]\n",
      "[1, 3, 5, 5, 6, 25, 18, 601, 9, 7, 6, 8, 66, 84, 8, 10]\n",
      "[1, 3, 5, 5, 6, 18, 25, 601, 9, 7, 6, 8, 66, 84, 8, 10]\n",
      "[1, 3, 5, 5, 6, 9, 25, 601, 18, 7, 6, 8, 66, 84, 8, 10]\n",
      "[1, 3, 5, 5, 6, 7, 25, 601, 18, 9, 6, 8, 66, 84, 8, 10]\n",
      "[1, 3, 5, 5, 6, 6, 25, 601, 18, 9, 7, 8, 66, 84, 8, 10]\n",
      "[1, 3, 5, 5, 6, 6, 18, 601, 25, 9, 7, 8, 66, 84, 8, 10]\n",
      "[1, 3, 5, 5, 6, 6, 9, 601, 25, 18, 7, 8, 66, 84, 8, 10]\n",
      "[1, 3, 5, 5, 6, 6, 7, 601, 25, 18, 9, 8, 66, 84, 8, 10]\n",
      "[1, 3, 5, 5, 6, 6, 7, 25, 601, 18, 9, 8, 66, 84, 8, 10]\n",
      "[1, 3, 5, 5, 6, 6, 7, 18, 601, 25, 9, 8, 66, 84, 8, 10]\n",
      "[1, 3, 5, 5, 6, 6, 7, 9, 601, 25, 18, 8, 66, 84, 8, 10]\n",
      "[1, 3, 5, 5, 6, 6, 7, 8, 601, 25, 18, 9, 66, 84, 8, 10]\n",
      "[1, 3, 5, 5, 6, 6, 7, 8, 601, 25, 18, 9, 66, 84, 8, 10]\n",
      "[1, 3, 5, 5, 6, 6, 7, 8, 25, 601, 18, 9, 66, 84, 8, 10]\n",
      "[1, 3, 5, 5, 6, 6, 7, 8, 18, 601, 25, 9, 66, 84, 8, 10]\n",
      "[1, 3, 5, 5, 6, 6, 7, 8, 9, 601, 25, 18, 66, 84, 8, 10]\n",
      "[1, 3, 5, 5, 6, 6, 7, 8, 8, 601, 25, 18, 66, 84, 9, 10]\n",
      "[1, 3, 5, 5, 6, 6, 7, 8, 8, 25, 601, 18, 66, 84, 9, 10]\n",
      "[1, 3, 5, 5, 6, 6, 7, 8, 8, 18, 601, 25, 66, 84, 9, 10]\n",
      "[1, 3, 5, 5, 6, 6, 7, 8, 8, 9, 601, 25, 66, 84, 18, 10]\n",
      "[1, 3, 5, 5, 6, 6, 7, 8, 8, 9, 25, 601, 66, 84, 18, 10]\n",
      "[1, 3, 5, 5, 6, 6, 7, 8, 8, 9, 18, 601, 66, 84, 25, 10]\n",
      "[1, 3, 5, 5, 6, 6, 7, 8, 8, 9, 10, 601, 66, 84, 25, 18]\n",
      "[1, 3, 5, 5, 6, 6, 7, 8, 8, 9, 10, 66, 601, 84, 25, 18]\n",
      "[1, 3, 5, 5, 6, 6, 7, 8, 8, 9, 10, 25, 601, 84, 66, 18]\n",
      "[1, 3, 5, 5, 6, 6, 7, 8, 8, 9, 10, 18, 601, 84, 66, 25]\n",
      "[1, 3, 5, 5, 6, 6, 7, 8, 8, 9, 10, 18, 84, 601, 66, 25]\n",
      "[1, 3, 5, 5, 6, 6, 7, 8, 8, 9, 10, 18, 66, 601, 84, 25]\n",
      "[1, 3, 5, 5, 6, 6, 7, 8, 8, 9, 10, 18, 25, 601, 84, 66]\n",
      "[1, 3, 5, 5, 6, 6, 7, 8, 8, 9, 10, 18, 25, 84, 601, 66]\n",
      "[1, 3, 5, 5, 6, 6, 7, 8, 8, 9, 10, 18, 25, 66, 601, 84]\n",
      "[1, 3, 5, 5, 6, 6, 7, 8, 8, 9, 10, 18, 25, 66, 84, 601]\n",
      "[1, 3, 5, 5, 6, 6, 7, 8, 8, 9, 10, 18, 25, 66, 84, 601]\n"
     ]
    }
   ],
   "source": [
    "def ssort(arr):\n",
    "    for i in range(len(arr)):\n",
    "        for k in range(i+1,len(arr)):\n",
    "            if arr[k] <= arr[i]:\n",
    "                tmp = arr[i]\n",
    "                arr[i] = arr[k]\n",
    "                arr[k] = tmp\n",
    "                print(arr)\n",
    "    return arr\n",
    "\n",
    "a = [1,5,6,9,25,18,5,601,7,6,3,8,66,84,8,10]\n",
    "print(ssort(a))"
   ]
  },
  {
   "cell_type": "code",
   "execution_count": 1,
   "metadata": {},
   "outputs": [
    {
     "name": "stdout",
     "output_type": "stream",
     "text": [
      "[1, 3, 5, 5, 6, 6, 7, 8, 8, 9, 10, 18, 25, 66, 84, 601]\n"
     ]
    }
   ],
   "source": [
    "def bsort(arr):\n",
    "    for i in range(len(arr)):\n",
    "        for k in range(len(arr) - i):\n",
    "            if k+1 < len(arr) and arr[k] > arr[k+1]:\n",
    "                tmp = arr[k]\n",
    "                arr[k] = arr[k+1]\n",
    "                arr[k+1] = tmp\n",
    "        \n",
    "    return arr\n",
    "\n",
    "a = [1,5,6,9,25,18,5,601,7,6,3,8,66,84,8,10]\n",
    "print(bsort(a))"
   ]
  },
  {
   "cell_type": "code",
   "execution_count": 11,
   "metadata": {},
   "outputs": [
    {
     "name": "stdout",
     "output_type": "stream",
     "text": [
      "3\n"
     ]
    },
    {
     "data": {
      "text/plain": [
       "'{\"value\": 1, \"left\": null, \"right\": {\"value\": 10, \"left\": {\"value\": 3, \"left\": null, \"right\": null}, \"right\": {\"value\": 15, \"left\": null, \"right\": {\"value\": 25, \"left\": null, \"right\": null}}}}'"
      ]
     },
     "execution_count": 11,
     "metadata": {},
     "output_type": "execute_result"
    }
   ],
   "source": [
    "import json\n",
    "from mimetypes import init\n",
    "\n",
    "\n",
    "class Node:\n",
    "    def __init__(self, val) -> None:\n",
    "        self.left = None\n",
    "        self.right = None\n",
    "        self.value = val\n",
    "        \n",
    "class BinarySearchTree:\n",
    "    def __init__(self) -> None:\n",
    "        self.root = None\n",
    "        \n",
    "    def insert(self, val):\n",
    "        newNode = Node(val)\n",
    "        \n",
    "        if(self.root == None):\n",
    "            self.root = newNode\n",
    "        else:\n",
    "            curr = self.root\n",
    "            while(True):\n",
    "                if(val < curr.value):\n",
    "                    #left\n",
    "                    if(curr.left == None):\n",
    "                        curr.left = newNode\n",
    "                        return self\n",
    "                    curr = curr.left\n",
    "                else:\n",
    "                    #right\n",
    "                    if(curr.right == None):\n",
    "                        curr.right = newNode\n",
    "                        return self\n",
    "                    curr = curr.right\n",
    "\n",
    "    def traverse(self, node):\n",
    "        tree = {'value': node.value}\n",
    "        tree['left'] = None if node.left == None else self.traverse(node.left)\n",
    "        tree['right'] = None if node.right == None else self.traverse(node.right)\n",
    "        return tree\n",
    "                \n",
    "    def lookup(self, val):\n",
    "        if(self.root == None):\n",
    "            return None\n",
    "        \n",
    "        curr = self.root\n",
    "        while(curr != None):\n",
    "            if(val < curr.value):\n",
    "                curr = curr.left\n",
    "            elif(val > curr.value):\n",
    "                curr = curr.right\n",
    "            elif(curr.value == val):\n",
    "                return curr\n",
    "            \n",
    "        return None\n",
    "                \n",
    "bst = BinarySearchTree()\n",
    "bst.insert(1)\n",
    "bst.insert(10)\n",
    "bst.insert(15)\n",
    "bst.insert(25)\n",
    "bst.insert(3)\n",
    "print(bst.lookup(3).value)\n",
    "json.dumps(bst.traverse(bst.root))"
   ]
  },
  {
   "cell_type": "code",
   "execution_count": 27,
   "metadata": {},
   "outputs": [
    {
     "name": "stdout",
     "output_type": "stream",
     "text": [
      "5 56 Size: 2\n",
      "7789 8\n",
      "5 56 555 Size: 3\n"
     ]
    }
   ],
   "source": [
    "class Node:\n",
    "    def __init__(self,val):\n",
    "        self.value = val\n",
    "        self.next = None\n",
    "        \n",
    "class Stack:\n",
    "    \n",
    "    def __init__(self) -> None:\n",
    "        self.top = None\n",
    "        self.bottom = None\n",
    "        self.length = 0\n",
    "        \n",
    "    def peek(self):\n",
    "        return self.top\n",
    "    \n",
    "    def push(self,val):\n",
    "        if self.length == 0:\n",
    "            self.top = Node(val)\n",
    "            self.bottom = self.top\n",
    "            self.length = 1\n",
    "        else:\n",
    "            self.top.next = Node(val)\n",
    "            self.top = self.top.next\n",
    "            self.length = self.length + 1\n",
    "            \n",
    "    def pop(self):\n",
    "        if self.length == 1: \n",
    "            tmp = self.top\n",
    "            self.top = None\n",
    "            self.bottom = None\n",
    "            self.length = 0\n",
    "            return tmp\n",
    "        elif self.length == 0:\n",
    "            return None\n",
    "        else:\n",
    "            curr = self.bottom\n",
    "            while (curr.next != self.top):\n",
    "                curr = curr.next\n",
    "            res = curr.next\n",
    "            self.top = curr\n",
    "            self.top.next = None\n",
    "            self.length = self.length - 1\n",
    "            return res\n",
    "        \n",
    "    def printStack(self):\n",
    "        arr = []\n",
    "        curr = self.bottom\n",
    "        while (curr != None):\n",
    "            arr.append(curr.value)\n",
    "            curr = curr.next\n",
    "        print(' '.join( map( lambda x: str(x), arr ) ) + \" Size: \" + str(self.length))\n",
    "        \n",
    "s = Stack()\n",
    "s.push(5)\n",
    "s.push(56)\n",
    "s.push(8)\n",
    "s.push(7789)\n",
    "p = s.pop()\n",
    "k = s.pop()\n",
    "s.printStack()\n",
    "print(str(p.value) + \" \" + str(k.value))\n",
    "s.push(555)\n",
    "s.printStack()"
   ]
  },
  {
   "cell_type": "code",
   "execution_count": 9,
   "metadata": {},
   "outputs": [
    {
     "name": "stdout",
     "output_type": "stream",
     "text": [
      "6 55 787 Size: 3\n",
      "787 55 6 Size: 3\n"
     ]
    }
   ],
   "source": [
    "# linked list\n",
    "from array import array\n",
    "\n",
    "\n",
    "class myLinkedList:\n",
    "    \n",
    "    def __init__(self):\n",
    "        self.head = {\n",
    "            'next': None,\n",
    "            'prev': None\n",
    "        }\n",
    "        self.tail = self.head\n",
    "        self.size = 0\n",
    "    \n",
    "    def append(self, val):\n",
    "        if self.size == 0:\n",
    "            self.head = {\n",
    "                'value': val,\n",
    "                'next': None,\n",
    "                'prev': None\n",
    "            }\n",
    "            self.tail = self.head\n",
    "            self.size = self.size + 1\n",
    "        else:\n",
    "            self.tail['next'] = {\n",
    "                'value': val,\n",
    "                'next': None,\n",
    "                'prev': self.tail\n",
    "            }\n",
    "            self.tail = self.tail['next']\n",
    "            self.size = self.size + 1\n",
    "        \n",
    "    def prepend(self,val):\n",
    "        newNode = {\n",
    "            'value': val,\n",
    "            'next': self.head,\n",
    "            'prev': None\n",
    "        }\n",
    "        self.head = newNode\n",
    "        self.size = self.size + 1 \n",
    "            \n",
    "    def insert(self, index, val):\n",
    "        curr = self.head\n",
    "        if index == 0: self.prepend(val)\n",
    "        elif index >= self.size: self.append(val)  \n",
    "        else:\n",
    "            for i in range(0,index-1):\n",
    "                if curr['next'] != None:\n",
    "                    curr = curr['next']\n",
    "                else: #bad index\n",
    "                    return None\n",
    "            curr['next'] = {\n",
    "                'value': val,\n",
    "                'next': curr['next'] if curr['next'] != None else None,\n",
    "                'prev': curr\n",
    "            }\n",
    "            self.size = self.size + 1\n",
    "        \n",
    "    def printList(self):\n",
    "        arr = []\n",
    "        curr = self.head\n",
    "        while(curr != None):\n",
    "            arr.append(curr['value'])\n",
    "            curr = curr['next']\n",
    "        print(' '.join(map(lambda x: str(x),arr)) + \" Size: \" + str(self.size))\n",
    "\n",
    "    def pop(self):\n",
    "        prev = self.head\n",
    "        while (prev['next'] != self.tail):\n",
    "            prev = prev['next']\n",
    "        self.tail = prev\n",
    "        self.tail['next'] = None\n",
    "        self.size = self.size - 1\n",
    "        \n",
    "    def popHead(self):\n",
    "        if self.head['next'] != None:\n",
    "            self.head = self.head['next']\n",
    "            self.size = self.size - 1\n",
    "        else:\n",
    "            self.head = {\n",
    "                'next': None,\n",
    "                'prev': None\n",
    "            }     \n",
    "            self.size = 1\n",
    "            self.tail = self.head\n",
    "                 \n",
    "    def remove(self, index):\n",
    "        if index >= self.size: self.pop()\n",
    "        elif index == 0: self.popHead()\n",
    "        else:\n",
    "            prev, curr = self.head, self.head\n",
    "            for i in range(index):\n",
    "                prev = curr\n",
    "                curr = curr['next']\n",
    "            prev['next'] = curr['next']\n",
    "            curr['prev'] = prev\n",
    "            self.size = self.size - 1\n",
    "            \n",
    "    def reverse(self):\n",
    "        resList = myLinkedList()\n",
    "        curr = self.tail\n",
    "        while(curr != None):\n",
    "            resList.append(curr['value'])\n",
    "            curr = curr['prev']\n",
    "        return resList\n",
    "            \n",
    "\n",
    "ll = myLinkedList()\n",
    "ll.append(6)\n",
    "ll.append(55)\n",
    "ll.append(333)\n",
    "ll.insert(2,787)\n",
    "ll.remove(4)\n",
    "ll.printList()\n",
    "reversed = ll.reverse()\n",
    "reversed.printList()"
   ]
  },
  {
   "cell_type": "code",
   "execution_count": 11,
   "metadata": {},
   "outputs": [
    {
     "name": "stdout",
     "output_type": "stream",
     "text": [
      "first repeated num is: 23\n",
      "{1: True, 5: True, 9: True, 8: True, 7: True, 23: True}\n"
     ]
    }
   ],
   "source": [
    "haveSeen = {}\n",
    "input_ = [1,5,9,8,7,23,23,6,5,7,1,1,4,3,7]\n",
    "for num in input_:\n",
    "    if num not in haveSeen:\n",
    "        haveSeen[num] = True\n",
    "    else:\n",
    "        print(\"first repeated num is: \" + str(num))\n",
    "        break\n",
    "print(haveSeen)\n",
    "        "
   ]
  },
  {
   "cell_type": "code",
   "execution_count": 5,
   "metadata": {},
   "outputs": [
    {
     "name": "stdout",
     "output_type": "stream",
     "text": [
      "found\n"
     ]
    }
   ],
   "source": [
    "a = {}\n",
    "a['hi'] = 'amigo'\n",
    "if 'hi' not in a.keys():\n",
    "    print('not found')\n",
    "else:\n",
    "    print(\"found\")"
   ]
  },
  {
   "cell_type": "code",
   "execution_count": 4,
   "metadata": {},
   "outputs": [
    {
     "data": {
      "text/plain": [
       "False"
      ]
     },
     "execution_count": 4,
     "metadata": {},
     "output_type": "execute_result"
    }
   ],
   "source": [
    "'&'.isalpha()"
   ]
  },
  {
   "cell_type": "code",
   "execution_count": 16,
   "metadata": {},
   "outputs": [
    {
     "name": "stdout",
     "output_type": "stream",
     "text": [
      "sdfsdfsd3sdfs\n"
     ]
    }
   ],
   "source": [
    "def LongestWord(sen):\n",
    "    wordList = []\n",
    "    wordStart = 0\n",
    "    for x in range(len(sen)):\n",
    "        if not sen[x].isalpha() and not sen[x].isdigit():\n",
    "            if len(sen[wordStart:x]) > 0:\n",
    "                wordList.append(sen[wordStart:x])\n",
    "            wordStart = x+1\n",
    "    maxindx = 0\n",
    "    maxCount = 0\n",
    "    for x in range(len(wordList)):\n",
    "        if len(wordList[x]) > maxCount:\n",
    "            maxCount = len(wordList[x])\n",
    "            maxindx = x\n",
    "    # code goes here\n",
    "    return wordList[maxindx]\n",
    "\n",
    "# keep this function call here \n",
    "print(LongestWord(input()))"
   ]
  },
  {
   "cell_type": "code",
   "execution_count": 23,
   "metadata": {},
   "outputs": [
    {
     "data": {
      "text/plain": [
       "6"
      ]
     },
     "execution_count": 23,
     "metadata": {},
     "output_type": "execute_result"
    }
   ],
   "source": [
    "from typing import List\n",
    "\n",
    "class Solution:\n",
    "    def maxSubArray(self, nums: List[int]) -> int:\n",
    "        \n",
    "        max_so_far = nums[0]\n",
    "        max_ending_here = 0\n",
    "        \n",
    "        for i in range(0,len(nums)):\n",
    "            max_ending_here = max_ending_here + nums[i]\n",
    "            if max_ending_here < 0:\n",
    "                max_ending_here = 0\n",
    "                \n",
    "            elif(max_so_far < max_ending_here):\n",
    "                max_so_far = max_ending_here\n",
    "        return max_so_far\n",
    "   \n",
    "sol = Solution()\n",
    "numList = [-2,1,-3,4,-1,2,1,-5,4]\n",
    "sol.maxSubArray(nums=numList)"
   ]
  },
  {
   "cell_type": "code",
   "execution_count": 10,
   "metadata": {},
   "outputs": [
    {
     "name": "stdout",
     "output_type": "stream",
     "text": [
      "False\n",
      "True\n",
      "False\n",
      "True\n"
     ]
    }
   ],
   "source": [
    "#return true if two numbers in an array equal a given sum\n",
    "# args: array of ints (any length), sum (int)\n",
    "\n",
    "#naive\n",
    "def twoNumsAreSum(arr, sum):\n",
    "  for i in range(len(arr)):\n",
    "    for j in range(i+1,len(arr)):\n",
    "      if arr[i] + arr[j] == sum:\n",
    "        return True\n",
    "  return False\n",
    "\n",
    "#better\n",
    "def twoNumsAreSum2(arr,sum):\n",
    "    complimentSet = set()\n",
    "    for num in arr:\n",
    "        if num in complimentSet:\n",
    "            return True\n",
    "        complimentSet.add(sum-num)\n",
    "    return False\n",
    "\n",
    "arr1 = [4,5,8,14,0,4,1]\n",
    "arr2 = [8,2,5,2,7,9,7,2]\n",
    "sum = 7\n",
    "\n",
    "print(twoNumsAreSum(arr1,sum))\n",
    "print(twoNumsAreSum(arr2,sum))\n",
    "\n",
    "print(twoNumsAreSum2(arr1,sum))\n",
    "print(twoNumsAreSum2(arr2,sum))"
   ]
  }
 ],
 "metadata": {
  "kernelspec": {
   "display_name": "Python 3.8.10 64-bit",
   "language": "python",
   "name": "python3"
  },
  "language_info": {
   "codemirror_mode": {
    "name": "ipython",
    "version": 3
   },
   "file_extension": ".py",
   "mimetype": "text/x-python",
   "name": "python",
   "nbconvert_exporter": "python",
   "pygments_lexer": "ipython3",
   "version": "3.8.10"
  },
  "orig_nbformat": 4,
  "vscode": {
   "interpreter": {
    "hash": "767d51c1340bd893661ea55ea3124f6de3c7a262a8b4abca0554b478b1e2ff90"
   }
  }
 },
 "nbformat": 4,
 "nbformat_minor": 2
}
