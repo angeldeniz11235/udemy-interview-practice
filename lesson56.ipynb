{
 "cells": [
  {
   "cell_type": "code",
   "execution_count": 4,
   "metadata": {},
   "outputs": [
    {
     "data": {
      "text/plain": [
       "False"
      ]
     },
     "execution_count": 4,
     "metadata": {},
     "output_type": "execute_result"
    }
   ],
   "source": [
    "'&'.isalpha()"
   ]
  },
  {
   "cell_type": "code",
   "execution_count": 3,
   "metadata": {},
   "outputs": [
    {
     "ename": "IndexError",
     "evalue": "list index out of range",
     "output_type": "error",
     "traceback": [
      "\u001b[0;31m---------------------------------------------------------------------------\u001b[0m",
      "\u001b[0;31mIndexError\u001b[0m                                Traceback (most recent call last)",
      "\u001b[1;32m/home/j3rk/Desktop/programming.local/udemy-coding-interview-practice/lesson56.ipynb Cell 1\u001b[0m in \u001b[0;36m<cell line: 19>\u001b[0;34m()\u001b[0m\n\u001b[1;32m     <a href='vscode-notebook-cell:/home/j3rk/Desktop/programming.local/udemy-coding-interview-practice/lesson56.ipynb#W2sZmlsZQ%3D%3D?line=15'>16</a>\u001b[0m     \u001b[39mreturn\u001b[39;00m wordList[maxindx]\n\u001b[1;32m     <a href='vscode-notebook-cell:/home/j3rk/Desktop/programming.local/udemy-coding-interview-practice/lesson56.ipynb#W2sZmlsZQ%3D%3D?line=17'>18</a>\u001b[0m \u001b[39m# keep this function call here \u001b[39;00m\n\u001b[0;32m---> <a href='vscode-notebook-cell:/home/j3rk/Desktop/programming.local/udemy-coding-interview-practice/lesson56.ipynb#W2sZmlsZQ%3D%3D?line=18'>19</a>\u001b[0m \u001b[39mprint\u001b[39m(LongestWord(\u001b[39minput\u001b[39;49m()))\n",
      "\u001b[1;32m/home/j3rk/Desktop/programming.local/udemy-coding-interview-practice/lesson56.ipynb Cell 1\u001b[0m in \u001b[0;36mLongestWord\u001b[0;34m(sen)\u001b[0m\n\u001b[1;32m     <a href='vscode-notebook-cell:/home/j3rk/Desktop/programming.local/udemy-coding-interview-practice/lesson56.ipynb#W2sZmlsZQ%3D%3D?line=13'>14</a>\u001b[0m             maxindx \u001b[39m=\u001b[39m x\n\u001b[1;32m     <a href='vscode-notebook-cell:/home/j3rk/Desktop/programming.local/udemy-coding-interview-practice/lesson56.ipynb#W2sZmlsZQ%3D%3D?line=14'>15</a>\u001b[0m \u001b[39m# code goes here\u001b[39;00m\n\u001b[0;32m---> <a href='vscode-notebook-cell:/home/j3rk/Desktop/programming.local/udemy-coding-interview-practice/lesson56.ipynb#W2sZmlsZQ%3D%3D?line=15'>16</a>\u001b[0m \u001b[39mreturn\u001b[39;00m wordList[maxindx]\n",
      "\u001b[0;31mIndexError\u001b[0m: list index out of range"
     ]
    }
   ],
   "source": [
    "def LongestWord(sen):\n",
    "    wordList = []\n",
    "    wordStart = 0\n",
    "    for x in range(len(sen)):\n",
    "        if not sen[x].isalpha() or not sen[x].isdigit():\n",
    "            if len(sen[wordStart:x]) > 0:\n",
    "                wordList.append(sen[wordStart:x])\n",
    "            wordStart = x+1\n",
    "        maxindx = 0\n",
    "        maxCount = 0\n",
    "        for x in range(len(wordList)):\n",
    "            if len(wordList(x)) > maxCount:\n",
    "                maxCount = len(wordList(x))\n",
    "                maxindx = x\n",
    "    # code goes here\n",
    "    return wordList[maxindx]\n",
    "\n",
    "# keep this function call here \n",
    "print(LongestWord(input()))"
   ]
  },
  {
   "cell_type": "code",
   "execution_count": null,
   "metadata": {},
   "outputs": [],
   "source": [
    "from typing import List\n",
    "\n",
    "class Solution:\n",
    "    def maxSubArray(self, nums: List[int]) -> int:\n",
    "      \n",
    "        sum = 0\n",
    "        sumsList = [{\n",
    "            'start': 0,\n",
    "            'end': len(nums),\n",
    "            'sum': sum(nums)\n",
    "        }]\n",
    "        i = 0\n",
    "        for x in range(len(nums)):\n",
    "             sumsList.append({\n",
    "                 'start': x,\n",
    "                 'end': len(nums),\n",
    "                 'sums': sum(nums[x:len(nums)])  \n",
    "             })\n",
    "        \n",
    "   \n",
    "sol = Solution\n",
    "numList = [-2,1,-3,4,-1,2,1,-5,4]\n",
    "sol.maxSubArray()"
   ]
  },
  {
   "cell_type": "code",
   "execution_count": 10,
   "metadata": {},
   "outputs": [
    {
     "name": "stdout",
     "output_type": "stream",
     "text": [
      "False\n",
      "True\n",
      "False\n",
      "True\n"
     ]
    }
   ],
   "source": [
    "#return true if two numbers in an array equal a given sum\n",
    "# args: array of ints (any length), sum (int)\n",
    "\n",
    "#naive\n",
    "def twoNumsAreSum(arr, sum):\n",
    "  for i in range(len(arr)):\n",
    "    for j in range(i+1,len(arr)):\n",
    "      if arr[i] + arr[j] == sum:\n",
    "        return True\n",
    "  return False\n",
    "\n",
    "#better\n",
    "def twoNumsAreSum2(arr,sum):\n",
    "    complimentSet = set()\n",
    "    for num in arr:\n",
    "        if num in complimentSet:\n",
    "            return True\n",
    "        complimentSet.add(sum-num)\n",
    "    return False\n",
    "\n",
    "arr1 = [4,5,8,14,0,4,1]\n",
    "arr2 = [8,2,5,2,7,9,7,2]\n",
    "sum = 7\n",
    "\n",
    "print(twoNumsAreSum(arr1,sum))\n",
    "print(twoNumsAreSum(arr2,sum))\n",
    "\n",
    "print(twoNumsAreSum2(arr1,sum))\n",
    "print(twoNumsAreSum2(arr2,sum))"
   ]
  }
 ],
 "metadata": {
  "kernelspec": {
   "display_name": "Python 3.9.12 ('base')",
   "language": "python",
   "name": "python3"
  },
  "language_info": {
   "codemirror_mode": {
    "name": "ipython",
    "version": 3
   },
   "file_extension": ".py",
   "mimetype": "text/x-python",
   "name": "python",
   "nbconvert_exporter": "python",
   "pygments_lexer": "ipython3",
   "version": "3.9.12"
  },
  "orig_nbformat": 4,
  "vscode": {
   "interpreter": {
    "hash": "586ad1ed5c97141e2437e681efbf1ec0adcd17d830cf5af2ca3d2819e743e158"
   }
  }
 },
 "nbformat": 4,
 "nbformat_minor": 2
}
