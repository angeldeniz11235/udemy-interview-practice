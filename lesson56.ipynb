{
 "cells": [
  {
   "cell_type": "code",
   "execution_count": 36,
   "metadata": {},
   "outputs": [
    {
     "data": {
      "text/plain": [
       "{'value': 55, 'next': None}"
      ]
     },
     "execution_count": 36,
     "metadata": {},
     "output_type": "execute_result"
    }
   ],
   "source": [
    "# linked list\n",
    "class myLinkedList:\n",
    "    def __init__(self):\n",
    "        self.head = {\n",
    "            'next': None\n",
    "        }\n",
    "        self.tail = self.head\n",
    "        self.size = 0\n",
    "    def push(self, val):\n",
    "        if self.size == 0:\n",
    "            self.head = {\n",
    "                'value': val,\n",
    "                'next': None\n",
    "            }\n",
    "            self.size = self.size + 1\n",
    "        else:\n",
    "            curr = self.head\n",
    "            while curr != self.tail:\n",
    "                curr = curr['next']\n",
    "            curr\n",
    "            self.tail['next'] = {\n",
    "                'value': val,\n",
    "                'next': None\n",
    "            }\n",
    "            self.tail = self.tail['next']\n",
    "            self.size = self.size + 1\n",
    "            \n",
    "ll = myLinkedList()\n",
    "ll.push(55)\n",
    "ll.push(6)\n",
    "ll.push(333)\n",
    "ll.head"
   ]
  },
  {
   "cell_type": "code",
   "execution_count": 11,
   "metadata": {},
   "outputs": [
    {
     "name": "stdout",
     "output_type": "stream",
     "text": [
      "first repeated num is: 23\n",
      "{1: True, 5: True, 9: True, 8: True, 7: True, 23: True}\n"
     ]
    }
   ],
   "source": [
    "haveSeen = {}\n",
    "input_ = [1,5,9,8,7,23,23,6,5,7,1,1,4,3,7]\n",
    "for num in input_:\n",
    "    if num not in haveSeen:\n",
    "        haveSeen[num] = True\n",
    "    else:\n",
    "        print(\"first repeated num is: \" + str(num))\n",
    "        break\n",
    "print(haveSeen)\n",
    "        "
   ]
  },
  {
   "cell_type": "code",
   "execution_count": 5,
   "metadata": {},
   "outputs": [
    {
     "name": "stdout",
     "output_type": "stream",
     "text": [
      "found\n"
     ]
    }
   ],
   "source": [
    "a = {}\n",
    "a['hi'] = 'amigo'\n",
    "if 'hi' not in a.keys():\n",
    "    print('not found')\n",
    "else:\n",
    "    print(\"found\")"
   ]
  },
  {
   "cell_type": "code",
   "execution_count": 4,
   "metadata": {},
   "outputs": [
    {
     "data": {
      "text/plain": [
       "False"
      ]
     },
     "execution_count": 4,
     "metadata": {},
     "output_type": "execute_result"
    }
   ],
   "source": [
    "'&'.isalpha()"
   ]
  },
  {
   "cell_type": "code",
   "execution_count": 16,
   "metadata": {},
   "outputs": [
    {
     "name": "stdout",
     "output_type": "stream",
     "text": [
      "sdfsdfsd3sdfs\n"
     ]
    }
   ],
   "source": [
    "def LongestWord(sen):\n",
    "    wordList = []\n",
    "    wordStart = 0\n",
    "    for x in range(len(sen)):\n",
    "        if not sen[x].isalpha() and not sen[x].isdigit():\n",
    "            if len(sen[wordStart:x]) > 0:\n",
    "                wordList.append(sen[wordStart:x])\n",
    "            wordStart = x+1\n",
    "    maxindx = 0\n",
    "    maxCount = 0\n",
    "    for x in range(len(wordList)):\n",
    "        if len(wordList[x]) > maxCount:\n",
    "            maxCount = len(wordList[x])\n",
    "            maxindx = x\n",
    "    # code goes here\n",
    "    return wordList[maxindx]\n",
    "\n",
    "# keep this function call here \n",
    "print(LongestWord(input()))"
   ]
  },
  {
   "cell_type": "code",
   "execution_count": 23,
   "metadata": {},
   "outputs": [
    {
     "data": {
      "text/plain": [
       "6"
      ]
     },
     "execution_count": 23,
     "metadata": {},
     "output_type": "execute_result"
    }
   ],
   "source": [
    "from typing import List\n",
    "\n",
    "class Solution:\n",
    "    def maxSubArray(self, nums: List[int]) -> int:\n",
    "        \n",
    "        max_so_far = nums[0]\n",
    "        max_ending_here = 0\n",
    "        \n",
    "        for i in range(0,len(nums)):\n",
    "            max_ending_here = max_ending_here + nums[i]\n",
    "            if max_ending_here < 0:\n",
    "                max_ending_here = 0\n",
    "                \n",
    "            elif(max_so_far < max_ending_here):\n",
    "                max_so_far = max_ending_here\n",
    "        return max_so_far\n",
    "   \n",
    "sol = Solution()\n",
    "numList = [-2,1,-3,4,-1,2,1,-5,4]\n",
    "sol.maxSubArray(nums=numList)"
   ]
  },
  {
   "cell_type": "code",
   "execution_count": 10,
   "metadata": {},
   "outputs": [
    {
     "name": "stdout",
     "output_type": "stream",
     "text": [
      "False\n",
      "True\n",
      "False\n",
      "True\n"
     ]
    }
   ],
   "source": [
    "#return true if two numbers in an array equal a given sum\n",
    "# args: array of ints (any length), sum (int)\n",
    "\n",
    "#naive\n",
    "def twoNumsAreSum(arr, sum):\n",
    "  for i in range(len(arr)):\n",
    "    for j in range(i+1,len(arr)):\n",
    "      if arr[i] + arr[j] == sum:\n",
    "        return True\n",
    "  return False\n",
    "\n",
    "#better\n",
    "def twoNumsAreSum2(arr,sum):\n",
    "    complimentSet = set()\n",
    "    for num in arr:\n",
    "        if num in complimentSet:\n",
    "            return True\n",
    "        complimentSet.add(sum-num)\n",
    "    return False\n",
    "\n",
    "arr1 = [4,5,8,14,0,4,1]\n",
    "arr2 = [8,2,5,2,7,9,7,2]\n",
    "sum = 7\n",
    "\n",
    "print(twoNumsAreSum(arr1,sum))\n",
    "print(twoNumsAreSum(arr2,sum))\n",
    "\n",
    "print(twoNumsAreSum2(arr1,sum))\n",
    "print(twoNumsAreSum2(arr2,sum))"
   ]
  }
 ],
 "metadata": {
  "kernelspec": {
   "display_name": "Python 3.8.10 64-bit",
   "language": "python",
   "name": "python3"
  },
  "language_info": {
   "codemirror_mode": {
    "name": "ipython",
    "version": 3
   },
   "file_extension": ".py",
   "mimetype": "text/x-python",
   "name": "python",
   "nbconvert_exporter": "python",
   "pygments_lexer": "ipython3",
   "version": "3.8.10"
  },
  "orig_nbformat": 4,
  "vscode": {
   "interpreter": {
    "hash": "767d51c1340bd893661ea55ea3124f6de3c7a262a8b4abca0554b478b1e2ff90"
   }
  }
 },
 "nbformat": 4,
 "nbformat_minor": 2
}
